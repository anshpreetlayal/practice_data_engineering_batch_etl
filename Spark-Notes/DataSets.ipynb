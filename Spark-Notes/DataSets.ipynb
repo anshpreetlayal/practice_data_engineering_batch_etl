{
 "cells": [
  {
   "cell_type": "markdown",
   "metadata": {},
   "source": [
    "### What are Datasets?\n",
    "\n",
    "Datasets in Spark are an abstraction that represents a distributed collection of data with a specific schema. They provide a higher-level API than RDDs (Resilient Distributed Datasets) and offer the benefits of both RDDs and DataFrames.\n",
    "\n",
    "Datasets are strongly typed, which means the data elements have a specific type associated with them. This allows Spark to perform optimizations and provide compile-time type checking, resulting in better performance and more robust applications.\n",
    "\n",
    "### Creating Datasets\n",
    "\n",
    "Datasets can be created from various data sources, such as CSV, JSON, Parquet, or even from existing RDDs. When creating a dataset, you define a case class (for Scala) or a JavaBean class (for Java) to represent the schema of the data. Each instance of the case class or JavaBean corresponds to a row in the dataset.\n",
    "\n",
    "For example, to create a dataset of `Person` objects from a CSV file, you define a case class `Person` with fields corresponding to the columns in the CSV file:\n",
    "\n",
    "```scala\n",
    "case class Person(name: String, age: Int)\n",
    "```\n",
    "\n",
    "Then, you can read a CSV file into a dataset of `Person` objects:\n",
    "\n",
    "```scala\n",
    "val peopleDS: Dataset[Person] = spark.read\n",
    "  .option(\"header\", \"true\")\n",
    "  .csv(\"path/to/people.csv\")\n",
    "  .as[Person]\n",
    "```\n",
    "\n",
    "### Operations on Datasets\n",
    "\n",
    "Once you have a dataset, you can perform various operations on it, such as filtering, grouping, aggregating, and joining. These operations are similar to those available for DataFrames and are optimized by Spark's Catalyst optimizer.\n",
    "\n",
    "For example, you can filter the `peopleDS` dataset to select only those people whose age is greater than 30:\n",
    "\n",
    "```scala\n",
    "val filteredPeople = peopleDS.filter(_.age > 30)\n",
    "```\n",
    "\n",
    "### Benefits of Datasets\n",
    "\n",
    "Datasets offer several benefits over RDDs and DataFrames:\n",
    "\n",
    "- **Type Safety**: Datasets are strongly typed, providing type safety at compile time.\n",
    "- **Performance**: Datasets leverage Spark's Catalyst optimizer for performance optimizations.\n",
    "- **Ease of Use**: Datasets provide a high-level API similar to DataFrames, making it easier to work with structured data.\n",
    "- **Interoperability**: Datasets can be easily converted to and from RDDs and DataFrames, allowing for seamless integration with existing Spark code.\n",
    "\n"
   ]
  }
 ],
 "metadata": {
  "language_info": {
   "name": "python"
  }
 },
 "nbformat": 4,
 "nbformat_minor": 2
}
