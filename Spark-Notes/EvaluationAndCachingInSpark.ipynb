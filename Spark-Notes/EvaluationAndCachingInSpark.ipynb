{
 "cells": [
  {
   "cell_type": "markdown",
   "metadata": {},
   "source": [
    "### Evaluation in Spark\n",
    "\n",
    "- **Definition**: Evaluation in Apache Spark refers to the process of executing a computation on an RDD (Resilient Distributed Dataset) or DataFrame to produce a result. This involves applying transformations (e.g., `map`, `filter`, `groupBy`) and actions (e.g., `collect`, `count`, `saveAsTextFile`) on the dataset.\n",
    "\n",
    "- **Triggering Evaluation**: Evaluation is triggered when an action is called on the RDD or DataFrame. Spark creates a directed acyclic graph (DAG) of transformations to be executed to produce the result.\n",
    "\n",
    "- **Example**:\n",
    "  ```scala\n",
    "  val rdd = sc.parallelize(Seq(1, 2, 3, 4, 5))\n",
    "  val sum = rdd.reduce(_ + _)\n",
    "  println(sum)\n",
    "  ```\n",
    "  In this example, `reduce` is an action that triggers the evaluation of the RDD `rdd` by summing up all the elements.\n",
    "\n",
    "### Iteration in Spark\n",
    "\n",
    "- **Definition**: Iteration in Apache Spark refers to the process of repeatedly applying a set of operations to a dataset until a certain condition is met. This is common in iterative algorithms, such as machine learning or graph algorithms.\n",
    "\n",
    "- **Example**: Iterative training of a machine learning model:\n",
    "  ```scala\n",
    "  var model = initialModel\n",
    "  for (i <- 1 to numIterations) {\n",
    "    model = data.map(point => updateModel(model, point)).reduce(combineModels)\n",
    "  }\n",
    "  ```\n",
    "  In this example, `updateModel` and `combineModels` are functions applied to each element of the dataset (`data`) in each iteration to update and combine the model parameters.\n",
    "\n",
    "- **Relation to Evaluation**: While each iteration involves the evaluation of the computation on the dataset, the overall process of iteration is different from the general evaluation of transformations and actions on an RDD or DataFrame."
   ]
  }
 ],
 "metadata": {
  "language_info": {
   "name": "python"
  }
 },
 "nbformat": 4,
 "nbformat_minor": 2
}
